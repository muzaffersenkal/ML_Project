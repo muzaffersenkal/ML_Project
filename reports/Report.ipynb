{
 "cells": [
  {
   "cell_type": "markdown",
   "id": "9548f338",
   "metadata": {},
   "source": [
    "# Machine Learning Project"
   ]
  },
  {
   "cell_type": "markdown",
   "id": "3b24e1c9",
   "metadata": {},
   "source": [
    "# Introduction"
   ]
  },
  {
   "cell_type": "markdown",
   "id": "d6722817",
   "metadata": {},
   "source": [
    "Any technologies that can give more efficient, or faster analysis are very valuable. In recent decades, scientist and software developers are working together to improve healthcare technologies. Artificial Intelligence is playing huge role in these studies. Many studies have already surpassed human achievement, and many doctors use these systems as a decision mechanism, or diagnose the disease. Especially in cancer diagnosis or early diagnosis, artificial intelligence models provide great benefits to doctors in terms of speed and accuracy. Therefore, in this study, a model will be developed that can benefit the health field by using machine learning methods for skin cancer, which has been quite common in recent years."
   ]
  },
  {
   "cell_type": "markdown",
   "id": "821ef677",
   "metadata": {},
   "source": [
    "# Business Understanding"
   ]
  },
  {
   "cell_type": "markdown",
   "id": "7f93f471",
   "metadata": {},
   "source": [
    "Early diagnosis plays a critical role in disease treatment processes in the healthcare. One of these diseases is skin cancer. In case of early detection, it contributes greatly to the recovery process of the individual. \n",
    "This detection is made with the Biopsy method [1] , which is the conventional method today. A sample must be taken, and the patient's skin is scraped off while taking this sample. Getting lab results is time consuming and also it is  painful to take samples from the patient. However, today's research shows that if a good quality image of the diseased area is taken, it is possible to detect it using machine learning and image processing methods."
   ]
  },
  {
   "cell_type": "markdown",
   "id": "fdb3ecf0",
   "metadata": {},
   "source": [
    "## Business Objectives"
   ]
  },
  {
   "cell_type": "markdown",
   "id": "d340044f",
   "metadata": {},
   "source": [
    "There are many types of skin cancers. These three types that are most common in society; basal-cell skin cancer (basal-cell carcinoma) (BCC), squamous-cell skin cancer (squamous-cell carcinoma) (SCC) and malignant melanoma [2]. Therefore, it is very difficult to identify them from the images. Thus, this project objective is to develop machine learning models that can classify correctly skin lessions. \n",
    "This project will be carried out using machine learning methods and will be evaluated using common model evaluation techniques."
   ]
  },
  {
   "cell_type": "markdown",
   "id": "d5ad6785",
   "metadata": {},
   "source": [
    "##  Data Mining Goals"
   ]
  },
  {
   "cell_type": "markdown",
   "id": "145fdb40",
   "metadata": {},
   "source": [
    "Before starting the project, defining data mining goals contributes significantly to project progress. Accuracy is usually evaluated in classification problems. It is the ratio of the number of correct predictions to the total number of input samples. Accuracy will be used in the training and evaluation. In addition, success values should be close to the success average in the literature [3]. Therefore, the following criteria needs to be met;\n",
    "\n",
    "- Success will be evaluated according to the accuracy and must be 85% and above.\n",
    "- The model will be served with a web interface."
   ]
  },
  {
   "cell_type": "markdown",
   "id": "5e14cc65",
   "metadata": {},
   "source": [
    "## Project Tools"
   ]
  },
  {
   "cell_type": "markdown",
   "id": "b0d9a76a",
   "metadata": {},
   "source": [
    "The most important feature of scientific projects is reproducibility, so it is necessary to work on this in a systematic and organized way. Therefore, the Project Template structure which is implemented in R will be adapted to the Python language and applied in this project. In addition, the project will be carried out within the framework of the **CRISP-DM** methodology, which is widely used in the data science industry.\n",
    "\n",
    "**Git** will allows us to tracks the changes for reproducibility. It is an open source version control system that will speed us up as we develop our projects, large or small, and help us maximize efficiency. The versioning can improve the reproducibility of our scientific analyses. This study was carried out using Github which is a web-based storage service for projects that use Git as a version control system.\n",
    "\n",
    "The lession images are approximately 3 gigabytes. It will require a lot of computational power, and it will take a lot of time to train the deep learning model on the local computer with this data. Therefore, a GPU machine is required. **Google Colab** is a free Jupyter notebook environment that runs  in the cloud. Google lets us use their dedicated GPUs and TPUs for machine learning projects, so we will accelerate our project with Google Colab."
   ]
  },
  {
   "cell_type": "markdown",
   "id": "c4318af2",
   "metadata": {},
   "source": [
    "# Data Understanding"
   ]
  },
  {
   "cell_type": "markdown",
   "id": "40e13d44",
   "metadata": {},
   "source": [
    "The **HAM10000** dataset (\"Human Against Machine with 10000 training images\")[4] released by Philipp Tschandl, Cliff Rosendahl, Harald Kittler includes totally 10015 dermatoscopic images from different populations. This data set is prepared for academic machine learning studies.  More than 50% of lesions have been confirmed by pathology, while the ground truth for the rest of the cases was either follow-up, expert consensus, or confirmation by in-vivo confocal microscopy. The ground truths of more than half of the dataset was provided with pathology confirmation, the rest was provided by confirmation methods such as follow-up, expert consensus, or in-vivo confocal microscopy. And also there are csv files which includes comprehensive metadata  and pixel values of images."
   ]
  },
  {
   "cell_type": "markdown",
   "id": "2009af39",
   "metadata": {},
   "source": [
    "### Scheme"
   ]
  },
  {
   "cell_type": "markdown",
   "id": "169fca33",
   "metadata": {},
   "source": [
    " - **lesion_id:**  unique id of lession\n",
    " \n",
    " Example:\n",
    "```\n",
    "\"AM_0000118\"\n",
    "```\n",
    " - **image_id:** image id of lession\n",
    " \n",
    "  Example:\n",
    "```\n",
    "\"ISIC_0027419\"\n",
    "```\n",
    " - **dx:** short for diagnosis (for the patient\n",
    " \n",
    "  Possible Values:\n",
    "```\n",
    "\"bkl\",\"nv\", \"df\", \"mel\", \"vasc\", \"bcc\", \"akiec\"\n",
    "```\n",
    " - **dx_type:** how the diagnosis was made\n",
    " \n",
    "  Possible Values::\n",
    "```\n",
    "\"histo\", \"consensus\" ,\"confocal\", \"follow_up\"\n",
    "```\n",
    " - **age:** The age of patient\n",
    " \n",
    "  Possible Values:\n",
    "```\n",
    "\"80.0\"\n",
    "```\n",
    " - **sex:** The sex of patient\n",
    " \n",
    "  Example:\n",
    "```\n",
    "'male', 'female', 'unknown'\n",
    "```\n",
    " - **localization:** the part of body\n",
    " \n",
    "  Possible Values:\n",
    "```\n",
    "'scalp', 'ear', 'face', 'back', 'trunk', 'chest', 'upper extremity', 'abdomen', 'unknown', 'lower extremity', 'genital', 'neck', 'hand', 'foot', 'acral'\n",
    "```"
   ]
  },
  {
   "cell_type": "markdown",
   "id": "818c7e56",
   "metadata": {},
   "source": [
    "## Abbreviations Values"
   ]
  },
  {
   "cell_type": "markdown",
   "id": "f4d3eaab",
   "metadata": {},
   "source": [
    "In the dataset, most categorical variables are abbreviated. The abbreviations are as follows;"
   ]
  },
  {
   "cell_type": "markdown",
   "id": "407fd5ca",
   "metadata": {},
   "source": [
    "##### Type of skin disease:\n",
    "\n",
    "- **nv:** Melanocytic nevi\n",
    "- **mel:**  Melanoma \n",
    "- **bkl:**  Benign keratosis-like lesions \n",
    "- **bcc:**  Basal cell carcinoma\n",
    "- **akiec:**  Actinic keratoses\n",
    "- **vasc:**  Vascular lesions\n",
    "- **df:**  Dermatofibroma\n",
    "    \n",
    "#####  Diagnosis methods\n",
    "\n",
    "- **histo:** histopathology \n",
    "- **follow_up:** follow up examination \n",
    "- **consensus:** expert consensus \n",
    "- **confocal:** confirmation by in-vivo confocal microscopy "
   ]
  },
  {
   "cell_type": "markdown",
   "id": "9771400b",
   "metadata": {},
   "source": [
    "##  Skin  Images"
   ]
  },
  {
   "cell_type": "markdown",
   "id": "181f9ddc",
   "metadata": {},
   "source": [
    "![SkinImages](../graphs/skin_images_glimpse.png)"
   ]
  },
  {
   "cell_type": "markdown",
   "id": "cb6490ef",
   "metadata": {},
   "source": [
    "## Exploratory Data Analysis"
   ]
  },
  {
   "cell_type": "markdown",
   "id": "a9946b6f",
   "metadata": {},
   "source": [
    "### Univariate Analysis"
   ]
  },
  {
   "cell_type": "markdown",
   "id": "a759f4f1",
   "metadata": {},
   "source": [
    "![univarite_sex_age](../graphs/univariate_sex_age.png)"
   ]
  },
  {
   "cell_type": "markdown",
   "id": "6fca3bb6",
   "metadata": {},
   "source": [
    "- Skin diseases are more common in men than women.\n",
    "- Skin diseases occur mostly in people aged 45 years and the probability of having skin disease is quite high in the middle age group. The number of samples increase dramatically after 25 years old. It remains stable between the ages of 60 and 70 and starts to decline again after the age of 75."
   ]
  },
  {
   "cell_type": "markdown",
   "id": "1f05fb30",
   "metadata": {},
   "source": [
    "![univarites](../graphs/univariate_type_confirmation_localization.png)"
   ]
  },
  {
   "cell_type": "markdown",
   "id": "fcb6c940",
   "metadata": {},
   "source": [
    "- Skin diseases occur mostly on the **\"back\"** and **\"lower extremity\"**(the part of the body from the hip to the toes) of the body and least on the **\"acral\"**.\n",
    "- The most found disease among people is  **\"nv\"** (Melanocytic nevi) while the least found is **\"df\"**(Dermatofibroma) .\n",
    "- Diagnosis methods is mostly done by **\"histo\"** (Histopathologhy) and **\"follow_up\"** (Follow-up)"
   ]
  },
  {
   "cell_type": "markdown",
   "id": "1c317b2f",
   "metadata": {},
   "source": [
    "### Bivariate Analysis"
   ]
  },
  {
   "cell_type": "markdown",
   "id": "7f9c1f67",
   "metadata": {},
   "source": [
    "![bivariate_localization_sex](../graphs/bivariate_localization_sex.png)"
   ]
  },
  {
   "cell_type": "markdown",
   "id": "f801fa23",
   "metadata": {},
   "source": [
    " - In the univariate analysis, it was stated that males are generally more commonly afflicted with skin diseases. However, skin diseases seen in the parts of the body vary according to gender. As seen in the plot above, In the part of **skin extremity area**, **foot** and **hand**, women have more skin diseases than men in the ."
   ]
  },
  {
   "cell_type": "markdown",
   "id": "2b3169a4",
   "metadata": {},
   "source": [
    "![bivariate_type_gender](../graphs/bivariate_type_gender.png)"
   ]
  },
  {
   "cell_type": "markdown",
   "id": "9dd1ee7b",
   "metadata": {},
   "source": [
    " - Males and females are affected the most by Melanocytic nevi."
   ]
  },
  {
   "cell_type": "markdown",
   "id": "33fcecf1",
   "metadata": {},
   "source": [
    "![bivariate_type_diagnosis](../graphs/bivariate_type_diagnosis.png)"
   ]
  },
  {
   "cell_type": "markdown",
   "id": "1393346f",
   "metadata": {},
   "source": [
    " - It seems possible to determine all skin disease types with the **histopathology** method.\n",
    " - When the **follow up examination** method was used, it was determined that the skin disease belonged only to Melanocytic nevi. In the same way **expert consensus** method was used to determine skin disease of the Benign keratosis-like lesions.\n",
    " - Confirmation by in-vivo confocal microscopy method was used to determine disease types except mel, bcc and akiec."
   ]
  },
  {
   "cell_type": "markdown",
   "id": "08aa776b",
   "metadata": {},
   "source": [
    "![bivariate_localization_type](../graphs/bivariate_localization_type.png)"
   ]
  },
  {
   "cell_type": "markdown",
   "id": "7736d12a",
   "metadata": {},
   "source": [
    " - The body part most affected by a benign keratosis-like lesion is the **face**.\n",
    " - Body parts except face are infected the most by Melanocytic nevi.\n",
    " - Only Melanocytic nevi and Melanoma skin diseases occur in the feet.\n",
    " - Only Melanocytic nevi skin disease occurs in the genital area."
   ]
  },
  {
   "cell_type": "markdown",
   "id": "f9915dc5",
   "metadata": {},
   "source": [
    "## Data Quality"
   ]
  },
  {
   "cell_type": "markdown",
   "id": "e1397d51",
   "metadata": {},
   "source": [
    "### Missing Values"
   ]
  },
  {
   "cell_type": "markdown",
   "id": "a95fab1a",
   "metadata": {},
   "source": [
    "\n",
    "Looking at the dataset, only missing values are seen in the age column. However, we do not need to fill in these missing values for the deep learning model we will create."
   ]
  },
  {
   "cell_type": "markdown",
   "id": "eeb3a18c",
   "metadata": {},
   "source": [
    "# Data Preparation"
   ]
  },
  {
   "cell_type": "markdown",
   "id": "bca24efc",
   "metadata": {},
   "source": [
    "\n",
    "This stage includes all the operations that need to be done in order to move on to the model stage of the data set. Currently, our dataset is not ready for model training. For this, it is necessary to perform some data manipulation operations on the data."
   ]
  },
  {
   "cell_type": "markdown",
   "id": "8f2da650",
   "metadata": {},
   "source": [
    "#### Lesion Name Abbreviations"
   ]
  },
  {
   "cell_type": "markdown",
   "id": "0450abff",
   "metadata": {},
   "source": [
    "In the metadata dataset, lession names were abbreviated. Abbreviations will be replaced with their original names so that they can be expressed more easily in the analysis."
   ]
  },
  {
   "cell_type": "markdown",
   "id": "bb7d2a49",
   "metadata": {},
   "source": [
    "\n",
    "- 'nv': 'Melanocytic nevi'\n",
    "- 'mel': 'Melanoma'\n",
    "- 'bkl': 'Benign keratosis-like lesions '\n",
    "- 'bcc': 'Basal cell carcinoma'\n",
    "- 'akiec': 'Actinic keratoses'\n",
    "- 'vasc': 'Vascular lesions'\n",
    "- 'df': 'Dermatofibroma'\n"
   ]
  },
  {
   "cell_type": "markdown",
   "id": "52b77aac",
   "metadata": {},
   "source": [
    "#### Target Column"
   ]
  },
  {
   "cell_type": "markdown",
   "id": "c2f9f082",
   "metadata": {},
   "source": [
    "In the business understanding section, the business goal was determined as skin lesion classification. The model to be created will determine the type of lesion based on the image shown. Therefore, the target variable is the lesion type (dx). The target variable should be represented as a categorical variable."
   ]
  },
  {
   "cell_type": "markdown",
   "id": "9157d0cd",
   "metadata": {},
   "source": [
    "#### Adding Image Path"
   ]
  },
  {
   "cell_type": "markdown",
   "id": "f3d24d0e",
   "metadata": {},
   "source": [
    "In order to make input the lesion pictures with their ground truth into model, we should add the image file name and path in the data frame."
   ]
  },
  {
   "cell_type": "markdown",
   "id": "d04f3a8f",
   "metadata": {},
   "source": [
    "#### Train - Test Split"
   ]
  },
  {
   "cell_type": "markdown",
   "id": "252800b9",
   "metadata": {},
   "source": [
    "To evaluate our model, the data should be separated into two parts; train and test. In the evaluation part, we will predict test data."
   ]
  },
  {
   "cell_type": "markdown",
   "id": "a0720e1b",
   "metadata": {},
   "source": [
    "# Modeling"
   ]
  },
  {
   "cell_type": "markdown",
   "id": "5bb86fcb",
   "metadata": {},
   "source": [
    "It has been stated in the Business Understanding section, early detection of skin cancer is crucial. The objective is creating a machine learning model that can classify the lession type given an image. In this section, models will be created using convolutional neural networks. Afterwards, the successes will be compared according to the metrics and the best model will be selected."
   ]
  },
  {
   "cell_type": "markdown",
   "id": "ddc9b83a",
   "metadata": {},
   "source": [
    "In order to create convolutional neural networks, we will use Keras[5], an open-source framework developed by Francois Chollet. It allows us to build complex models by writing a few lines of code. Furthermore, Keras includes best CNN architectures pre-trained on large datasets such as Resnet50, VGG19, Xception, so on."
   ]
  },
  {
   "cell_type": "markdown",
   "id": "bc1d3ef2",
   "metadata": {},
   "source": [
    "## Building Model"
   ]
  },
  {
   "cell_type": "markdown",
   "id": "1c34509d",
   "metadata": {},
   "source": [
    "### 1. Custom CNN Architecture"
   ]
  },
  {
   "cell_type": "markdown",
   "id": "e5f77b78",
   "metadata": {},
   "source": [
    "![cnn](../graphs/cnn_architecture.png)"
   ]
  },
  {
   "cell_type": "markdown",
   "id": "4c5f429c",
   "metadata": {},
   "source": [
    "Firstly, Sequential layer is defined for our neural network which means a linear stack of layers between the input and output. Sequential layer in Keras allows us to build a model layer by layer using ‘add()’ function.\n",
    "\n",
    "Our first layer is **Conv2D** layer which core block of the CNN. It will perform a dot product of input images, which are seen as 2-dimensional matrices.  The activation function we will be using is Rectified Linear Activation. ReLu has been proven to work well in machine learning models. **BatchNormalization** is a layer that normalizes a mini-batch of data across all observations. **MaxPooling2D** is a pooling layer in CNN that performs dimensionality reduction that preserves locality in feature maps. After pooling layer we will use **Dropout** layer. In machine learning,  regularization is a method to prevent overfitting. Thus, **Dropout** is a approach for regularization in neural networks. \n",
    "\n",
    "We will add this quartet in our neural network 3 times in a row. In the last layer, we will add a **dense** layer which means the neurons of the layer are connected to every neuron of its preceding layer.  Since we have 7 classes, the last layer has 7 neurons. Here  **softmax activation** will be used as the activation function. Softmax function outputs a vector that represents the probability distributions of predict probability of classes."
   ]
  },
  {
   "cell_type": "markdown",
   "id": "2ffe3d59",
   "metadata": {},
   "source": [
    "### Transfer Learning"
   ]
  },
  {
   "cell_type": "markdown",
   "id": "9718184c",
   "metadata": {},
   "source": [
    "The idea of **transfer learning** was shaped by the learning paradigm of human. People have an inherent ability to transfer knowledge across tasks. We use the knowledge we learn in one job in another job, so transfer learning in deep learning was inspired by this motivation. Transfer learning is the reuse of a model that has previously learned for another problem on a new problem. A model uses the knowledge learned from a previous problem to increase prediction about a new problem."
   ]
  },
  {
   "cell_type": "markdown",
   "id": "f650f9b0",
   "metadata": {},
   "source": [
    "Three of the most popular architectures pre-trained on the ImageNet dataset were selected. ImageNet dataset includes over 14 million images sorted in 1000 categories [6]. "
   ]
  },
  {
   "cell_type": "markdown",
   "id": "00f8b29e",
   "metadata": {},
   "source": [
    "- **Resnet50:**  ResNet stands for Residual Network, and it has many variants that run on the same concept but have different numbers of layers. It is introduced by Kaiming He, Xiangyu Zhang, Shaoqing Ren, and Jian Sun [7].  As the name suggests, ResNet-50 is a 50-layer deep convolutional neural network. It has 48 Convolution layers along with 1 MaxPool and 1 Average Pool layer. "
   ]
  },
  {
   "cell_type": "markdown",
   "id": "19673d40",
   "metadata": {},
   "source": [
    "- **Inceptionv3:** The Inception V3 deep learning model is a variant of the Convolutional Neural Networks framework. It was developed by Google's team at the company."
   ]
  },
  {
   "cell_type": "markdown",
   "id": "0e1381ba",
   "metadata": {},
   "source": [
    "- **Xception:** It was developed by Google, and involves Depthwise Separable Convolutions. DSC are kind of convolutions much more efficient in terms of computation time [8]."
   ]
  },
  {
   "cell_type": "markdown",
   "id": "1217004e",
   "metadata": {},
   "source": [
    "## Transfer Learning Fine Tuning"
   ]
  },
  {
   "cell_type": "markdown",
   "id": "a6402b8a",
   "metadata": {},
   "source": [
    "In transfer learning part was to change only the layers of the classification stage, keeping the knowledge that the network obtained when extracting feature in the previous task, from which we are loading ImageNet weights.\n",
    "With fine-tuning we are not limited to retraining only the classifier stage (i.e. the fully connected layers), but what we will do is retrain also the feature extraction part. At this stage, the Resnet50, Xception, and Inceptionv3 models are fine-tuned."
   ]
  },
  {
   "cell_type": "markdown",
   "id": "31296aa3",
   "metadata": {},
   "source": [
    "### Model Training"
   ]
  },
  {
   "cell_type": "markdown",
   "id": "afc4192e",
   "metadata": {},
   "source": [
    "#### Train-Validation Split"
   ]
  },
  {
   "cell_type": "markdown",
   "id": "9712eaa1",
   "metadata": {},
   "source": [
    "To observe the success of the model during training the data should separate into training and validation. However, the data is not balanced, so we should do a stratified random split of the data. We will split data into **80** percent for training, **20** percent for validation. The random state ensures that the splits that you generate are reproducible."
   ]
  },
  {
   "cell_type": "markdown",
   "id": "cfc904e5",
   "metadata": {},
   "source": [
    "#### Dataset Augmentation"
   ]
  },
  {
   "cell_type": "markdown",
   "id": "963070f1",
   "metadata": {},
   "source": [
    "Data augmentation is a method for oversampling the data. It generates new samples of images using various image transformation techniques such as image rotation, brightness or flipping etc. The benefit of using data augmentation is to prevent overfitting and enable the model to learn better."
   ]
  },
  {
   "cell_type": "markdown",
   "id": "216bcc8f",
   "metadata": {},
   "source": [
    "| Parameter  | Value  | Description  |\n",
    "|---|---|---|\n",
    "| rotation_range   | 15  | rotates the image up to the given value  |\n",
    "| rescale  | 1./255  | scale the image between 0 and 1   |\n",
    "| shear_range  |  0.1 | applies shearing transformations  |\n",
    "| zoom_range  | 0.2  | zoom in or zoom out up to the given value  |\n",
    "| horizontal_flip  | True  |   flips the image in horizontal direction |\n",
    "| width_shift_range  | 0.1  | shifts images in horizontal direction  |\n",
    "| height_shift_range  | 0.1  | shifts images in vertical direction  |"
   ]
  },
  {
   "cell_type": "markdown",
   "id": "970579b5",
   "metadata": {},
   "source": [
    "#### Callbacks"
   ]
  },
  {
   "cell_type": "markdown",
   "id": "e99f953a",
   "metadata": {},
   "source": [
    " - **Early Stopping:** To prevent overfitting we will use the early stop technique. If the validation loss value does not improve during a certain epoch, the model stops training. This value was selected as 10 epochs.\n",
    " - **Learning Rate Reduction:** The learning rate will be reduced when a accuracy does not increase for 2 steps\n",
    " - **Model Checkpoint:** There are too many images and probably the training time will take too much time. If something happens during training, we have to start all over, so we will save our model weights when validation accuracy increased."
   ]
  },
  {
   "cell_type": "markdown",
   "id": "70261e10",
   "metadata": {},
   "source": [
    "#### Optimizer"
   ]
  },
  {
   "cell_type": "markdown",
   "id": "0d4b2057",
   "metadata": {},
   "source": [
    "For optimizer, a widely known Adaptive Moment Estimation called **Adam** was used. Adam is an optimization algorithm to update network weights iterative based in training data. According the comparison of other algorithms, it requires less memory and is efficient [6].\n",
    "\n"
   ]
  },
  {
   "cell_type": "markdown",
   "id": "ce47bcc6",
   "metadata": {},
   "source": [
    "![adam](../graphs/adam.png)"
   ]
  },
  {
   "cell_type": "markdown",
   "id": "f90e760c",
   "metadata": {},
   "source": [
    "# Evaluation"
   ]
  },
  {
   "cell_type": "markdown",
   "id": "a468a04c",
   "metadata": {},
   "source": [
    "During the modeling phase, many models were developed for our business goal. At this stage, the success of these developed models will be compared and inferences will be made according to the criteria determined in our business target."
   ]
  },
  {
   "cell_type": "markdown",
   "id": "beb5fcd6",
   "metadata": {},
   "source": [
    "### Model Training Evaluation"
   ]
  },
  {
   "cell_type": "markdown",
   "id": "822a3465",
   "metadata": {},
   "source": [
    "![train_evaluate](../graphs/model_accuracy_compare.png)"
   ]
  },
  {
   "cell_type": "markdown",
   "id": "101d4a4a",
   "metadata": {},
   "source": [
    "- The accuracy rate of our **custom cnn model** is approximately 75%. There is not much difference between the validation score and the training score, and there is no overfitting.\n",
    "-  The **Resnet50** architecture we use for transfer learning, could not close the success of our custom cnn architecture. The accuracy rate hovers around 67%. Deep fluctuations occurred in the first epochs of fine tuning. In the next epochs, the rates got closer and the training accuracy reached 93%.\n",
    "- The success rate of the **Inceptionv3** architecture has increased to approximately 75%. There is an average of about 2% difference with the validation score. In Fine Tuning, this difference is greatly reduced.\n",
    "- The accuracy of the **Xception** architecture is around 74%. There is a very small difference between the validation score and the training score. In fine tuning, the training score increased to 99% and the validation score to 85%. An overfitting has occurred in model training. However, when the validation score is considered, its success is quite high compared to other models."
   ]
  },
  {
   "cell_type": "markdown",
   "id": "1b4138ec",
   "metadata": {},
   "source": [
    "### Test Data Evaluation"
   ]
  },
  {
   "cell_type": "markdown",
   "id": "976ff367",
   "metadata": {},
   "source": [
    "![train_evaluate](../graphs/model_scores.png)"
   ]
  },
  {
   "cell_type": "markdown",
   "id": "426178a1",
   "metadata": {},
   "source": [
    "The graph above shows the success of the trained models on the training, validation,and test data. Accuracy metric value were calculated for each model. First of all, The success rate of the custom cnn model in the test set is slightly above the training and validation score. According to the scores, 2 models stand out; fine-tuned **Xception and Resnet50**. 2 models were overfitted during the training phase, but their success on validation and test data is above the success of other models. When the 2 models are compared to each other, the success of the **Xception** model on both validation and test set is higher than the Resnet50 model metrics."
   ]
  },
  {
   "cell_type": "markdown",
   "id": "c2da80f4",
   "metadata": {},
   "source": [
    "#### Confusion Matrix"
   ]
  },
  {
   "cell_type": "markdown",
   "id": "20e0f494",
   "metadata": {},
   "source": [
    "Predictions and groundtruths of all models on the test data are plotted through the confusion matrix below."
   ]
  },
  {
   "cell_type": "markdown",
   "id": "22485d01",
   "metadata": {},
   "source": [
    "![test_cm](../graphs/model_compare_cm.png)"
   ]
  },
  {
   "cell_type": "markdown",
   "id": "542c887a",
   "metadata": {},
   "source": [
    "# Deployment"
   ]
  },
  {
   "cell_type": "markdown",
   "id": "13923535",
   "metadata": {},
   "source": [
    "Deployment is one of the most important stages. It is not possible for the study to reach its business goal without deployment. This section aims to put the whole work into practice. We will build an app that lets you upload images of skin lession and, with the help of a deep learning model, classify the image. Streamlit [10] was used to integrate the model into an interface. It is an open-source python framework for building web apps for Machine Learning."
   ]
  },
  {
   "cell_type": "markdown",
   "id": "d62e82d9",
   "metadata": {},
   "source": [
    "![demo](../graphs/demo.gif)"
   ]
  },
  {
   "cell_type": "markdown",
   "id": "8bfcfe0a",
   "metadata": {},
   "source": [
    "## References"
   ]
  },
  {
   "cell_type": "markdown",
   "id": "74f40fdc",
   "metadata": {},
   "source": [
    "[1] Jaleel, J. A., Salim, S., & Aswin, R. B. (2013). Computer Aided Detection of Skin Cancer. 2013 International Conference on Circuits, Power and Computing Technologies (ICCPCT). https://doi.org/10.1109/iccpct.2013.6528879"
   ]
  },
  {
   "cell_type": "markdown",
   "id": "b6655b62",
   "metadata": {},
   "source": [
    "[2] Wikipedia Contributors. (2021, December 12). Skin cancer. Wikipedia; Wikimedia Foundation. https://en.wikipedia.org/wiki/Skin_cancer#Classification\n"
   ]
  },
  {
   "cell_type": "markdown",
   "id": "1b6457f1",
   "metadata": {},
   "source": [
    "[3] Dildar, M., Akram, S., Irfan, M., Khan, H. U., Ramzan, M., Mahmood, A. R., Alsaiari, S. A., Saeed, A. H. M., Alraddadi, M. O., & Mahnashi, M. H. (2021). Skin Cancer Detection: A Review Using Deep Learning Techniques. International Journal of Environmental Research and Public Health, 18(10), 5479. https://doi.org/10.3390/ijerph18105479"
   ]
  },
  {
   "cell_type": "markdown",
   "id": "48df9b46",
   "metadata": {},
   "source": [
    "[4] Tschandl, P., Rosendahl, C., & Kittler, H. (2018). The HAM10000 dataset, a large collection of multi-source dermatoscopic images of common pigmented skin lesions. Scientific Data, 5(1). https://doi.org/10.1038/sdata.2018.161"
   ]
  },
  {
   "cell_type": "markdown",
   "id": "c1f26043",
   "metadata": {},
   "source": [
    "[5] Team, K. (2022). Keras: the Python deep learning API. Keras.io. https://keras.io/"
   ]
  },
  {
   "cell_type": "markdown",
   "id": "647c9ebf",
   "metadata": {},
   "source": [
    "[6] ImageNet. (2021). Image-Net.org. https://www.image-net.org/"
   ]
  },
  {
   "cell_type": "markdown",
   "id": "f096b517",
   "metadata": {},
   "source": [
    "[7] He, K., Zhang, X., Ren, S., & Sun, J. (2015). Deep Residual Learning for Image Recognition. ArXiv.org. https://arxiv.org/abs/1512.03385"
   ]
  },
  {
   "cell_type": "markdown",
   "id": "62bcfe3a",
   "metadata": {},
   "source": [
    "[8] Chollet, F. (2016). Xception: Deep Learning with Depthwise Separable Convolutions. ArXiv.org. https://arxiv.org/abs/1610.02357"
   ]
  },
  {
   "cell_type": "markdown",
   "id": "d97cf5d6",
   "metadata": {},
   "source": [
    "[9] Kingma, D., & Lei Ba, J. (2017). ADAM: A METHOD FOR STOCHASTIC OPTIMIZATION. https://arxiv.org/pdf/1412.6980.pdf"
   ]
  },
  {
   "cell_type": "markdown",
   "id": "7b48896b",
   "metadata": {},
   "source": [
    "[10] Streamlit • The fastest way to build and share data apps. (2013). Streamlit.io. https://streamlit.io/\n"
   ]
  },
  {
   "cell_type": "code",
   "execution_count": null,
   "id": "9ee363f7",
   "metadata": {},
   "outputs": [],
   "source": []
  }
 ],
 "metadata": {
  "kernelspec": {
   "display_name": "Python 3 (ipykernel)",
   "language": "python",
   "name": "python3"
  },
  "language_info": {
   "codemirror_mode": {
    "name": "ipython",
    "version": 3
   },
   "file_extension": ".py",
   "mimetype": "text/x-python",
   "name": "python",
   "nbconvert_exporter": "python",
   "pygments_lexer": "ipython3",
   "version": "3.9.5"
  }
 },
 "nbformat": 4,
 "nbformat_minor": 5
}
