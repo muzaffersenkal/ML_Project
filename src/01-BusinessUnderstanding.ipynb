{
 "cells": [
  {
   "cell_type": "markdown",
   "id": "821ef677",
   "metadata": {},
   "source": [
    "# Business Understanding"
   ]
  },
  {
   "cell_type": "markdown",
   "id": "7f93f471",
   "metadata": {},
   "source": [
    "Early diagnosis plays a critical role in disease treatment processes in the healthcare. One of these diseases is skin cancer. In case of early detection, it contributes greatly to the recovery process of the individual. \n",
    "This detection is made with the Biopsy method [1] , which is the conventional method today. A sample must be taken, and the patient's skin is scraped off while taking this sample. Getting lab results is time consuming and also it is  painful to take samples from the patient. However, today's research shows that if a good quality image of the diseased area is taken, it is possible to detect it using machine learning and image processing methods."
   ]
  },
  {
   "cell_type": "markdown",
   "id": "fdb3ecf0",
   "metadata": {},
   "source": [
    "## Business Objectives"
   ]
  },
  {
   "cell_type": "markdown",
   "id": "d340044f",
   "metadata": {},
   "source": [
    "There are many types of skin cancers. These three types that are most common in society; basal-cell skin cancer (basal-cell carcinoma) (BCC), squamous-cell skin cancer (squamous-cell carcinoma) (SCC) and malignant melanoma [2]. Therefore, it is very difficult to identify them from the images. Thus, this project objective is to develop machine learning models that can classify correctly skin lessions. \n",
    "This project will be carried out using machine learning methods and will be evaluated using common model evaluation techniques."
   ]
  },
  {
   "cell_type": "markdown",
   "id": "d5ad6785",
   "metadata": {},
   "source": [
    "##  Data Mining Goals"
   ]
  },
  {
   "cell_type": "markdown",
   "id": "145fdb40",
   "metadata": {},
   "source": [
    "Before starting the project, defining data mining goals contributes significantly to project progress. Accuracy is usually evaluated in classification problems. But in this classification it is important to minimize the false negative value. False negative error is widely used in the healthcare. This should be considered when choosing an evaluation metric. In addition, success values should be close to the success average in the literature [3].\n",
    "\n",
    "Therefore, the following criteria needs to be met;\n",
    "- Success will be evaluated according to the f1 score and must be 90% and above.\n",
    "- The model will be served with a web interface."
   ]
  },
  {
   "cell_type": "markdown",
   "id": "5e14cc65",
   "metadata": {},
   "source": [
    "## Project Tools"
   ]
  },
  {
   "cell_type": "markdown",
   "id": "b0d9a76a",
   "metadata": {},
   "source": [
    "The most important feature of scientific projects is reproducibility, so it is necessary to work on this in a systematic and organized way. Therefore, the Project Template structure which is implemented in R will be adapted to the Python language and applied in this project. In addition, the project will be carried out within the framework of the CRISP-DM methodology, which is widely used in the data science industry.\n",
    "\n",
    "Git will allows us to tracks the changes for reproducibility. It is an open source version control system that will speed us up as we develop our projects, large or small, and help us maximize efficiency. The versioning can improve the reproducibility of our scientific analyses. This study was carried out using Github which is a web-based storage service for projects that use Git as a version control system."
   ]
  },
  {
   "cell_type": "markdown",
   "id": "8bfcfe0a",
   "metadata": {},
   "source": [
    "## References"
   ]
  },
  {
   "cell_type": "markdown",
   "id": "74f40fdc",
   "metadata": {},
   "source": [
    "[1] Jaleel, J. A., Salim, S., & Aswin, R. B. (2013). Computer Aided Detection of Skin Cancer. 2013 International Conference on Circuits, Power and Computing Technologies (ICCPCT). https://doi.org/10.1109/iccpct.2013.6528879"
   ]
  },
  {
   "cell_type": "markdown",
   "id": "b6655b62",
   "metadata": {},
   "source": [
    "[2] Wikipedia Contributors. (2021, December 12). Skin cancer. Wikipedia; Wikimedia Foundation. https://en.wikipedia.org/wiki/Skin_cancer#Classification\n"
   ]
  },
  {
   "cell_type": "markdown",
   "id": "1b6457f1",
   "metadata": {},
   "source": [
    "[3] Dildar, M., Akram, S., Irfan, M., Khan, H. U., Ramzan, M., Mahmood, A. R., Alsaiari, S. A., Saeed, A. H. M., Alraddadi, M. O., & Mahnashi, M. H. (2021). Skin Cancer Detection: A Review Using Deep Learning Techniques. International Journal of Environmental Research and Public Health, 18(10), 5479. https://doi.org/10.3390/ijerph18105479\n"
   ]
  },
  {
   "cell_type": "code",
   "execution_count": null,
   "id": "7a49650a",
   "metadata": {},
   "outputs": [],
   "source": []
  }
 ],
 "metadata": {
  "kernelspec": {
   "display_name": "Python 3 (ipykernel)",
   "language": "python",
   "name": "python3"
  },
  "language_info": {
   "codemirror_mode": {
    "name": "ipython",
    "version": 3
   },
   "file_extension": ".py",
   "mimetype": "text/x-python",
   "name": "python",
   "nbconvert_exporter": "python",
   "pygments_lexer": "ipython3",
   "version": "3.9.5"
  }
 },
 "nbformat": 4,
 "nbformat_minor": 5
}
