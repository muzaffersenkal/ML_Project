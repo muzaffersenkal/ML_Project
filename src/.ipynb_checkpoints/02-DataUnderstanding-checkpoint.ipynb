{
 "cells": [
  {
   "cell_type": "markdown",
   "id": "d7d5f620",
   "metadata": {},
   "source": [
    "## Data Understanding"
   ]
  },
  {
   "cell_type": "code",
   "execution_count": 2,
   "id": "ea05c99c",
   "metadata": {},
   "outputs": [],
   "source": [
    "import pandas as pd\n",
    "import numpy as np"
   ]
  },
  {
   "cell_type": "markdown",
   "id": "e6a5e7ab",
   "metadata": {},
   "source": [
    "The HAM10000 dataset (\"Human Against Machine with 10000 training images\")[1] released by Philipp Tschandl, Cliff Rosendahl, Harald Kittler includes totally 10015 dermatoscopic images from different populations. This data set is prepared for academic machine learning studies.  More than 50% of lesions have been confirmed by pathology, while the ground truth for the rest of the cases was either follow-up, expert consensus, or confirmation by in-vivo confocal microscopy. The ground truths of more than half of the dataset was provided with pathology confirmation, the rest was provided by confirmation methods such as expert consensus, or in-vivo confocal microscopy."
   ]
  },
  {
   "cell_type": "code",
   "execution_count": null,
   "id": "677a6c39",
   "metadata": {},
   "outputs": [],
   "source": []
  },
  {
   "cell_type": "markdown",
   "id": "f186bc6c",
   "metadata": {},
   "source": [
    "# References"
   ]
  },
  {
   "cell_type": "code",
   "execution_count": null,
   "id": "76491d5b",
   "metadata": {},
   "outputs": [],
   "source": [
    "https://arxiv.org/abs/1803.10417"
   ]
  }
 ],
 "metadata": {
  "kernelspec": {
   "display_name": "Python 3 (ipykernel)",
   "language": "python",
   "name": "python3"
  },
  "language_info": {
   "codemirror_mode": {
    "name": "ipython",
    "version": 3
   },
   "file_extension": ".py",
   "mimetype": "text/x-python",
   "name": "python",
   "nbconvert_exporter": "python",
   "pygments_lexer": "ipython3",
   "version": "3.9.5"
  }
 },
 "nbformat": 4,
 "nbformat_minor": 5
}
