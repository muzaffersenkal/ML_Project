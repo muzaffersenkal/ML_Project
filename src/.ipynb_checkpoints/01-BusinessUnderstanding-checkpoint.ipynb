{
 "cells": [
  {
   "cell_type": "markdown",
   "id": "78045ffb",
   "metadata": {},
   "source": [
    "# Business Understanding"
   ]
  },
  {
   "cell_type": "markdown",
   "id": "57f46b01",
   "metadata": {},
   "source": [
    "Early diagnosis plays a critical role in disease treatment processes in the healthcare. One of these diseases is skin cancer. In case of early detection, it contributes greatly to the recovery process of the individual. \n",
    "This detection is made with the Biopsy method [1] , which is the conventional method today. A sample must be taken, and the patient's skin is scraped off while taking this sample. Getting lab results is time consuming and also it is  painful to take samples from the patient. However, today's research shows that if a good quality image of the diseased area is taken, it is possible to detect it using machine learning and image processing methods."
   ]
  },
  {
   "cell_type": "markdown",
   "id": "a14646d4",
   "metadata": {},
   "source": [
    "## Business Objectives"
   ]
  },
  {
   "cell_type": "markdown",
   "id": "028066bd",
   "metadata": {},
   "source": [
    "There are many types of skin cancers. These three types that are most common in society; basal-cell skin cancer (basal-cell carcinoma) (BCC), squamous-cell skin cancer (squamous-cell carcinoma) (SCC) and malignant melanoma [2]. Therefore, it is very difficult to identify them from the images. Thus, this project objective is to develop machine learning models that can classify correctly skin lessions. \n",
    "This project will be carried out using machine learning methods and will be evaluated using common model evaluation techniques."
   ]
  },
  {
   "cell_type": "markdown",
   "id": "00a67e28",
   "metadata": {},
   "source": []
  },
  {
   "cell_type": "code",
   "execution_count": null,
   "id": "2817f7b8",
   "metadata": {},
   "outputs": [],
   "source": []
  },
  {
   "cell_type": "markdown",
   "id": "219969f0",
   "metadata": {},
   "source": [
    "##  Data Mining Goals"
   ]
  },
  {
   "cell_type": "code",
   "execution_count": null,
   "id": "e4c12553",
   "metadata": {},
   "outputs": [],
   "source": []
  },
  {
   "cell_type": "code",
   "execution_count": null,
   "id": "4fd59dac",
   "metadata": {},
   "outputs": [],
   "source": []
  },
  {
   "cell_type": "markdown",
   "id": "f72560cc",
   "metadata": {},
   "source": [
    "## Project Tools"
   ]
  },
  {
   "cell_type": "code",
   "execution_count": null,
   "id": "2ea18ca7",
   "metadata": {},
   "outputs": [],
   "source": []
  },
  {
   "cell_type": "code",
   "execution_count": null,
   "id": "0ea20242",
   "metadata": {},
   "outputs": [],
   "source": [
    "[1] Jaleel, J. A., Salim, S., & Aswin, R. B. (2013). Computer Aided Detection of Skin Cancer. 2013 International Conference on Circuits, Power and Computing Technologies (ICCPCT). https://doi.org/10.1109/iccpct.2013.6528879"
   ]
  },
  {
   "cell_type": "code",
   "execution_count": null,
   "id": "3a368f3e",
   "metadata": {},
   "outputs": [],
   "source": [
    "[2] Wikipedia Contributors. (2021, December 12). Skin cancer. Wikipedia; Wikimedia Foundation. https://en.wikipedia.org/wiki/Skin_cancer#Classification\n"
   ]
  }
 ],
 "metadata": {
  "kernelspec": {
   "display_name": "Python 3 (ipykernel)",
   "language": "python",
   "name": "python3"
  },
  "language_info": {
   "codemirror_mode": {
    "name": "ipython",
    "version": 3
   },
   "file_extension": ".py",
   "mimetype": "text/x-python",
   "name": "python",
   "nbconvert_exporter": "python",
   "pygments_lexer": "ipython3",
   "version": "3.9.5"
  }
 },
 "nbformat": 4,
 "nbformat_minor": 5
}
