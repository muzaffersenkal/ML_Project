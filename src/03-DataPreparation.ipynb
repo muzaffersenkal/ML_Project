{
 "cells": [
  {
   "cell_type": "markdown",
   "id": "eeb3a18c",
   "metadata": {},
   "source": [
    "# Data Preparation"
   ]
  },
  {
   "cell_type": "markdown",
   "id": "bca24efc",
   "metadata": {},
   "source": [
    "\n",
    "This stage includes all the operations that need to be done in order to move on to the model stage of the data set. Currently, our dataset is not ready for model training. For this, it is necessary to perform some data manipulation operations on the data."
   ]
  },
  {
   "cell_type": "code",
   "execution_count": 1,
   "id": "2fcc5763",
   "metadata": {},
   "outputs": [],
   "source": [
    "from sklearn.model_selection import train_test_split\n",
    "import pandas as pd\n",
    "import os"
   ]
  },
  {
   "cell_type": "code",
   "execution_count": 2,
   "id": "4704c4b6",
   "metadata": {},
   "outputs": [],
   "source": [
    "df = pd.read_csv(\"../data/HAM10000_metadata.csv\")"
   ]
  },
  {
   "cell_type": "code",
   "execution_count": 3,
   "id": "2df42bc4",
   "metadata": {},
   "outputs": [
    {
     "data": {
      "text/html": [
       "<div>\n",
       "<style scoped>\n",
       "    .dataframe tbody tr th:only-of-type {\n",
       "        vertical-align: middle;\n",
       "    }\n",
       "\n",
       "    .dataframe tbody tr th {\n",
       "        vertical-align: top;\n",
       "    }\n",
       "\n",
       "    .dataframe thead th {\n",
       "        text-align: right;\n",
       "    }\n",
       "</style>\n",
       "<table border=\"1\" class=\"dataframe\">\n",
       "  <thead>\n",
       "    <tr style=\"text-align: right;\">\n",
       "      <th></th>\n",
       "      <th>lesion_id</th>\n",
       "      <th>image_id</th>\n",
       "      <th>dx</th>\n",
       "      <th>dx_type</th>\n",
       "      <th>age</th>\n",
       "      <th>sex</th>\n",
       "      <th>localization</th>\n",
       "    </tr>\n",
       "  </thead>\n",
       "  <tbody>\n",
       "    <tr>\n",
       "      <th>0</th>\n",
       "      <td>HAM_0000118</td>\n",
       "      <td>ISIC_0027419</td>\n",
       "      <td>bkl</td>\n",
       "      <td>histo</td>\n",
       "      <td>80.0</td>\n",
       "      <td>male</td>\n",
       "      <td>scalp</td>\n",
       "    </tr>\n",
       "    <tr>\n",
       "      <th>1</th>\n",
       "      <td>HAM_0000118</td>\n",
       "      <td>ISIC_0025030</td>\n",
       "      <td>bkl</td>\n",
       "      <td>histo</td>\n",
       "      <td>80.0</td>\n",
       "      <td>male</td>\n",
       "      <td>scalp</td>\n",
       "    </tr>\n",
       "    <tr>\n",
       "      <th>2</th>\n",
       "      <td>HAM_0002730</td>\n",
       "      <td>ISIC_0026769</td>\n",
       "      <td>bkl</td>\n",
       "      <td>histo</td>\n",
       "      <td>80.0</td>\n",
       "      <td>male</td>\n",
       "      <td>scalp</td>\n",
       "    </tr>\n",
       "    <tr>\n",
       "      <th>3</th>\n",
       "      <td>HAM_0002730</td>\n",
       "      <td>ISIC_0025661</td>\n",
       "      <td>bkl</td>\n",
       "      <td>histo</td>\n",
       "      <td>80.0</td>\n",
       "      <td>male</td>\n",
       "      <td>scalp</td>\n",
       "    </tr>\n",
       "    <tr>\n",
       "      <th>4</th>\n",
       "      <td>HAM_0001466</td>\n",
       "      <td>ISIC_0031633</td>\n",
       "      <td>bkl</td>\n",
       "      <td>histo</td>\n",
       "      <td>75.0</td>\n",
       "      <td>male</td>\n",
       "      <td>ear</td>\n",
       "    </tr>\n",
       "  </tbody>\n",
       "</table>\n",
       "</div>"
      ],
      "text/plain": [
       "     lesion_id      image_id   dx dx_type   age   sex localization\n",
       "0  HAM_0000118  ISIC_0027419  bkl   histo  80.0  male        scalp\n",
       "1  HAM_0000118  ISIC_0025030  bkl   histo  80.0  male        scalp\n",
       "2  HAM_0002730  ISIC_0026769  bkl   histo  80.0  male        scalp\n",
       "3  HAM_0002730  ISIC_0025661  bkl   histo  80.0  male        scalp\n",
       "4  HAM_0001466  ISIC_0031633  bkl   histo  75.0  male          ear"
      ]
     },
     "execution_count": 3,
     "metadata": {},
     "output_type": "execute_result"
    }
   ],
   "source": [
    "df. head()"
   ]
  },
  {
   "cell_type": "markdown",
   "id": "8f2da650",
   "metadata": {},
   "source": [
    "## Lesion Name Abbreviations"
   ]
  },
  {
   "cell_type": "markdown",
   "id": "0450abff",
   "metadata": {},
   "source": [
    "In the metadata dataset, lession names were abbreviated. Abbreviations will be replaced with their original names so that they can be expressed more easily in the analysis."
   ]
  },
  {
   "cell_type": "code",
   "execution_count": 4,
   "id": "59c4d579",
   "metadata": {},
   "outputs": [],
   "source": [
    "lessions = {\n",
    "    'nv': 'Melanocytic nevi',\n",
    "    'mel': 'Melanoma',\n",
    "    'bkl': 'Benign keratosis-like lesions ',\n",
    "    'bcc': 'Basal cell carcinoma',\n",
    "    'akiec': 'Actinic keratoses',\n",
    "    'vasc': 'Vascular lesions',\n",
    "    'df': 'Dermatofibroma'\n",
    "}\n",
    "df['lession_type'] = df['dx'].map(lessions.get) "
   ]
  },
  {
   "cell_type": "markdown",
   "id": "52b77aac",
   "metadata": {},
   "source": [
    "## Target Column "
   ]
  },
  {
   "cell_type": "markdown",
   "id": "c2f9f082",
   "metadata": {},
   "source": [
    "In the business understanding section, the business goal was determined as skin lesion classification. The model to be created will determine the type of lesion based on the image shown. Therefore, the target variable is the lesion type (dx). The target variable should be represented as a categorical variable."
   ]
  },
  {
   "cell_type": "code",
   "execution_count": 5,
   "id": "9709e2c7",
   "metadata": {},
   "outputs": [],
   "source": [
    "df['lession_type_id'] = pd.Categorical(df['lession_type']).codes"
   ]
  },
  {
   "cell_type": "markdown",
   "id": "9157d0cd",
   "metadata": {},
   "source": [
    "## Adding Image Path"
   ]
  },
  {
   "cell_type": "markdown",
   "id": "f3d24d0e",
   "metadata": {},
   "source": [
    "In order to make input the lesion pictures with their ground truth into model, we should add the image file name and path in the data frame."
   ]
  },
  {
   "cell_type": "code",
   "execution_count": 6,
   "id": "8005328a",
   "metadata": {},
   "outputs": [],
   "source": [
    "df[\"image_file_name\"] = df[\"image_id\"] +\".jpg\""
   ]
  },
  {
   "cell_type": "code",
   "execution_count": 7,
   "id": "222b5368",
   "metadata": {},
   "outputs": [],
   "source": [
    "image_data_path = \"../data/images/raw/\"\n",
    "df[\"image_path\"] = image_data_path + df[\"image_file_name\"] \n"
   ]
  },
  {
   "cell_type": "code",
   "execution_count": 8,
   "id": "fab6259f",
   "metadata": {},
   "outputs": [
    {
     "data": {
      "text/html": [
       "<div>\n",
       "<style scoped>\n",
       "    .dataframe tbody tr th:only-of-type {\n",
       "        vertical-align: middle;\n",
       "    }\n",
       "\n",
       "    .dataframe tbody tr th {\n",
       "        vertical-align: top;\n",
       "    }\n",
       "\n",
       "    .dataframe thead th {\n",
       "        text-align: right;\n",
       "    }\n",
       "</style>\n",
       "<table border=\"1\" class=\"dataframe\">\n",
       "  <thead>\n",
       "    <tr style=\"text-align: right;\">\n",
       "      <th></th>\n",
       "      <th>lesion_id</th>\n",
       "      <th>image_id</th>\n",
       "      <th>dx</th>\n",
       "      <th>dx_type</th>\n",
       "      <th>age</th>\n",
       "      <th>sex</th>\n",
       "      <th>localization</th>\n",
       "      <th>lession_type</th>\n",
       "      <th>lession_type_id</th>\n",
       "      <th>image_file_name</th>\n",
       "      <th>image_path</th>\n",
       "    </tr>\n",
       "  </thead>\n",
       "  <tbody>\n",
       "    <tr>\n",
       "      <th>0</th>\n",
       "      <td>HAM_0000118</td>\n",
       "      <td>ISIC_0027419</td>\n",
       "      <td>bkl</td>\n",
       "      <td>histo</td>\n",
       "      <td>80.0</td>\n",
       "      <td>male</td>\n",
       "      <td>scalp</td>\n",
       "      <td>Benign keratosis-like lesions</td>\n",
       "      <td>2</td>\n",
       "      <td>ISIC_0027419.jpg</td>\n",
       "      <td>../data/images/raw/ISIC_0027419.jpg</td>\n",
       "    </tr>\n",
       "    <tr>\n",
       "      <th>1</th>\n",
       "      <td>HAM_0000118</td>\n",
       "      <td>ISIC_0025030</td>\n",
       "      <td>bkl</td>\n",
       "      <td>histo</td>\n",
       "      <td>80.0</td>\n",
       "      <td>male</td>\n",
       "      <td>scalp</td>\n",
       "      <td>Benign keratosis-like lesions</td>\n",
       "      <td>2</td>\n",
       "      <td>ISIC_0025030.jpg</td>\n",
       "      <td>../data/images/raw/ISIC_0025030.jpg</td>\n",
       "    </tr>\n",
       "    <tr>\n",
       "      <th>2</th>\n",
       "      <td>HAM_0002730</td>\n",
       "      <td>ISIC_0026769</td>\n",
       "      <td>bkl</td>\n",
       "      <td>histo</td>\n",
       "      <td>80.0</td>\n",
       "      <td>male</td>\n",
       "      <td>scalp</td>\n",
       "      <td>Benign keratosis-like lesions</td>\n",
       "      <td>2</td>\n",
       "      <td>ISIC_0026769.jpg</td>\n",
       "      <td>../data/images/raw/ISIC_0026769.jpg</td>\n",
       "    </tr>\n",
       "    <tr>\n",
       "      <th>3</th>\n",
       "      <td>HAM_0002730</td>\n",
       "      <td>ISIC_0025661</td>\n",
       "      <td>bkl</td>\n",
       "      <td>histo</td>\n",
       "      <td>80.0</td>\n",
       "      <td>male</td>\n",
       "      <td>scalp</td>\n",
       "      <td>Benign keratosis-like lesions</td>\n",
       "      <td>2</td>\n",
       "      <td>ISIC_0025661.jpg</td>\n",
       "      <td>../data/images/raw/ISIC_0025661.jpg</td>\n",
       "    </tr>\n",
       "    <tr>\n",
       "      <th>4</th>\n",
       "      <td>HAM_0001466</td>\n",
       "      <td>ISIC_0031633</td>\n",
       "      <td>bkl</td>\n",
       "      <td>histo</td>\n",
       "      <td>75.0</td>\n",
       "      <td>male</td>\n",
       "      <td>ear</td>\n",
       "      <td>Benign keratosis-like lesions</td>\n",
       "      <td>2</td>\n",
       "      <td>ISIC_0031633.jpg</td>\n",
       "      <td>../data/images/raw/ISIC_0031633.jpg</td>\n",
       "    </tr>\n",
       "  </tbody>\n",
       "</table>\n",
       "</div>"
      ],
      "text/plain": [
       "     lesion_id      image_id   dx dx_type   age   sex localization  \\\n",
       "0  HAM_0000118  ISIC_0027419  bkl   histo  80.0  male        scalp   \n",
       "1  HAM_0000118  ISIC_0025030  bkl   histo  80.0  male        scalp   \n",
       "2  HAM_0002730  ISIC_0026769  bkl   histo  80.0  male        scalp   \n",
       "3  HAM_0002730  ISIC_0025661  bkl   histo  80.0  male        scalp   \n",
       "4  HAM_0001466  ISIC_0031633  bkl   histo  75.0  male          ear   \n",
       "\n",
       "                     lession_type  lession_type_id   image_file_name  \\\n",
       "0  Benign keratosis-like lesions                 2  ISIC_0027419.jpg   \n",
       "1  Benign keratosis-like lesions                 2  ISIC_0025030.jpg   \n",
       "2  Benign keratosis-like lesions                 2  ISIC_0026769.jpg   \n",
       "3  Benign keratosis-like lesions                 2  ISIC_0025661.jpg   \n",
       "4  Benign keratosis-like lesions                 2  ISIC_0031633.jpg   \n",
       "\n",
       "                            image_path  \n",
       "0  ../data/images/raw/ISIC_0027419.jpg  \n",
       "1  ../data/images/raw/ISIC_0025030.jpg  \n",
       "2  ../data/images/raw/ISIC_0026769.jpg  \n",
       "3  ../data/images/raw/ISIC_0025661.jpg  \n",
       "4  ../data/images/raw/ISIC_0031633.jpg  "
      ]
     },
     "execution_count": 8,
     "metadata": {},
     "output_type": "execute_result"
    }
   ],
   "source": [
    "df.head()"
   ]
  },
  {
   "cell_type": "markdown",
   "id": "d04f3a8f",
   "metadata": {},
   "source": [
    "## Train - Test Split"
   ]
  },
  {
   "cell_type": "markdown",
   "id": "252800b9",
   "metadata": {},
   "source": [
    "To evaluate our model, the data should be separated into two parts; train and test. In the evaluation part, we will predict test data."
   ]
  },
  {
   "cell_type": "code",
   "execution_count": 9,
   "id": "666443c6",
   "metadata": {},
   "outputs": [],
   "source": [
    "train_df, test_df = train_test_split(df, test_size=0.20, stratify=df[\"lession_type\"], random_state=99)\n",
    "train_df = train_df.reset_index(drop=True)\n",
    "test_df = test_df.reset_index(drop=True)"
   ]
  },
  {
   "cell_type": "markdown",
   "id": "b0dc66ad",
   "metadata": {},
   "source": [
    "## Export New Dataframes"
   ]
  },
  {
   "cell_type": "markdown",
   "id": "084d2f3f",
   "metadata": {},
   "source": [
    "\n",
    "Our dataset is ready for model training. The data containing the metadata will be saved as a different file in order to be able to use it in the next step."
   ]
  },
  {
   "cell_type": "code",
   "execution_count": 10,
   "id": "1daebfb3",
   "metadata": {},
   "outputs": [],
   "source": [
    "train_df.to_csv(\"../data/train.csv\", index=False )"
   ]
  },
  {
   "cell_type": "code",
   "execution_count": 11,
   "id": "d871c33d",
   "metadata": {},
   "outputs": [],
   "source": [
    "test_df.to_csv(\"../data/test.csv\", index=False )"
   ]
  }
 ],
 "metadata": {
  "kernelspec": {
   "display_name": "Python 3 (ipykernel)",
   "language": "python",
   "name": "python3"
  },
  "language_info": {
   "codemirror_mode": {
    "name": "ipython",
    "version": 3
   },
   "file_extension": ".py",
   "mimetype": "text/x-python",
   "name": "python",
   "nbconvert_exporter": "python",
   "pygments_lexer": "ipython3",
   "version": "3.9.5"
  }
 },
 "nbformat": 4,
 "nbformat_minor": 5
}
